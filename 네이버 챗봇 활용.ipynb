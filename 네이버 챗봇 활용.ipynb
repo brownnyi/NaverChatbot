{
  "nbformat": 4,
  "nbformat_minor": 0,
  "metadata": {
    "colab": {
      "provenance": [],
      "authorship_tag": "ABX9TyOb/m/y0L+P9oxTwdB30q8E",
      "include_colab_link": true
    },
    "kernelspec": {
      "name": "python3",
      "display_name": "Python 3"
    },
    "language_info": {
      "name": "python"
    }
  },
  "cells": [
    {
      "cell_type": "markdown",
      "metadata": {
        "id": "view-in-github",
        "colab_type": "text"
      },
      "source": [
        "<a href=\"https://colab.research.google.com/github/brownnyi/NaverChatbot/blob/main/%EB%84%A4%EC%9D%B4%EB%B2%84%20%EC%B1%97%EB%B4%87%20%ED%99%9C%EC%9A%A9.ipynb\" target=\"_parent\"><img src=\"https://colab.research.google.com/assets/colab-badge.svg\" alt=\"Open In Colab\"/></a>"
      ]
    },
    {
      "cell_type": "markdown",
      "source": [
        "https://clovachatbot.ncloud.com/api/chatbot/messenger/v1/12865/252646ac57ed13cbb39f3551d2c4262c23f1c4679d86315222cc399a99e7d47c"
      ],
      "metadata": {
        "id": "ioSllEwrTGd4"
      }
    },
    {
      "cell_type": "markdown",
      "source": [
        "VVVXZlRCY3VtdFBpTlNqenJVSHFRSVRCenl1SXFidEM="
      ],
      "metadata": {
        "id": "04N0OL1OTK24"
      }
    },
    {
      "cell_type": "markdown",
      "source": [
        "https://n5n6w6fc1c.apigw.ntruss.com/team3_introduction/beta/"
      ],
      "metadata": {
        "id": "re4U3PEmXBVa"
      }
    },
    {
      "cell_type": "code",
      "source": [
        "import hashlib\n",
        "import hmac\n",
        "import base64\n",
        "import time\n",
        "import requests\n",
        "import json\n",
        "\n",
        "\n",
        "class ChatbotMessageSender:\n",
        "\n",
        "    # chatbot api gateway url\n",
        "    ep_path = 'XXX'\n",
        "    # chatbot custom secret key\n",
        "    secret_key = 'XXX'\n",
        "\n",
        "    def req_message_send(self, i_text='안녕'):\n",
        "\n",
        "        timestamp = self.get_timestamp()\n",
        "        request_body = {\n",
        "            'version': 'v2',\n",
        "            'userId': 'instructor3',\n",
        "            'timestamp': timestamp,\n",
        "            'bubbles': [\n",
        "                {\n",
        "                    'type': 'text',\n",
        "                    'data': {\n",
        "                        'description': i_text\n",
        "                    }\n",
        "                }\n",
        "            ],\n",
        "            'event': 'send'\n",
        "        }\n",
        "\n",
        "        ## Request body\n",
        "        encode_request_body = json.dumps(request_body).encode('UTF-8')\n",
        "\n",
        "        ## make signature\n",
        "        signature = self.make_signature(self.secret_key, encode_request_body)\n",
        "\n",
        "        ## headers\n",
        "        custom_headers = {\n",
        "            'Content-Type': 'application/json;UTF-8',\n",
        "            'X-NCP-CHATBOT_SIGNATURE': signature\n",
        "        }\n",
        "\n",
        "        print(\"## Timestamp : \", timestamp)\n",
        "        print(\"## Signature : \", signature)\n",
        "        print(\"## headers \", custom_headers)\n",
        "        print(\"## Request Body : \", encode_request_body)\n",
        "\n",
        "        ## POST Request\n",
        "        response = requests.post(headers=custom_headers, url=self.ep_path, data=encode_request_body)\n",
        "\n",
        "        return response\n",
        "\n",
        "    @staticmethod\n",
        "    def get_timestamp():\n",
        "        timestamp = int(time.time() * 1000)\n",
        "        return timestamp\n",
        "\n",
        "    @staticmethod\n",
        "    def make_signature(secret_key, request_body):\n",
        "\n",
        "        secret_key_bytes = bytes(secret_key, 'UTF-8')\n",
        "\n",
        "        signing_key = base64.b64encode(hmac.new(secret_key_bytes, request_body, digestmod=hashlib.sha256).digest())\n",
        "\n",
        "        return signing_key\n",
        "\n",
        "\n",
        "if __name__ == '__main__':\n",
        "    input_text = '안녕'\n",
        "    res_obj = ChatbotMessageSender()\n",
        "    res=res_obj.req_message_send(input_text)\n",
        "\n",
        "    print(res.status_code)\n",
        "    if(res.status_code == 200):\n",
        "        #print(res.text)\n",
        "        dict_res = res.json()\n",
        "        print(dict_res['bubbles'][0]['data']['description'])\n",
        "        #print(res.read().decode(\"UTF-8\"))"
      ],
      "metadata": {
        "colab": {
          "base_uri": "https://localhost:8080/"
        },
        "id": "VL7HC8G0W0WF",
        "outputId": "462fbb5a-a985-48f7-b059-0e8544a23e5f"
      },
      "execution_count": null,
      "outputs": [
        {
          "output_type": "stream",
          "name": "stdout",
          "text": [
            "## Timestamp :  1702960865919\n",
            "## Signature :  b'2OxoMVQVOIyACDP/J0G3gHl0qY2RZWMLxnVYghqD4nI='\n",
            "## headers  {'Content-Type': 'application/json;UTF-8', 'X-NCP-CHATBOT_SIGNATURE': b'2OxoMVQVOIyACDP/J0G3gHl0qY2RZWMLxnVYghqD4nI='}\n",
            "## Request Body :  b'{\"version\": \"v2\", \"userId\": \"instructor3\", \"timestamp\": 1702960865919, \"bubbles\": [{\"type\": \"text\", \"data\": {\"description\": \"\\\\uc548\\\\ub155\"}}], \"event\": \"send\"}'\n",
            "200\n",
            "안녕하세요! 다음 키워드를 입력하세요.\n",
            "\n",
            "!소개\n",
            "- 저를 소개합니다.\n",
            "\n",
            "!목차\n",
            "- 이번 발표의 목차를 소개합니다.\n",
            "\n",
            "!주제\n",
            "- 프로젝트의 주제를 설명합니다.\n",
            "\n",
            "!데이터\n",
            "- 프로젝트에서 사용한 데이터를 설명합니다.\n",
            "\n",
            "!BERT\n",
            "- BERT 모델에 대하여 설명합니다.\n",
            "\n",
            "!LLM\n",
            "- LLM 모델에 대하여 설명합니다.\n",
            "\n",
            "!Llama\n",
            "- Llama 모델을 설명합니다.\n",
            "\n",
            "!Alpaca\n",
            "- Alpaca 모델을 설명합니다.\n",
            "\n",
            "!파인튜닝\n",
            "- 파인튜닝에 대해 설명합니다.\n",
            "\n",
            "!문제점\n",
            "- 프로젝트를 준비하면서 생겼던 문제점 및 한계점을 설명합니다.\n"
          ]
        }
      ]
    },
    {
      "cell_type": "markdown",
      "source": [
        "#스트림릿 코드"
      ],
      "metadata": {
        "id": "GP2ITv94YO9M"
      }
    },
    {
      "cell_type": "code",
      "source": [
        "    if 'past' not in st.session_state: # 내 입력채팅값 저장할 리스트\n",
        "        st.session_state['past'] = []\n",
        "\n",
        "    if 'generated' not in st.session_state: # 챗봇채팅값 저장할 리스트\n",
        "        st.session_state['generated'] = []\n",
        "\n",
        "\n",
        "    placeholder = st.empty() # 채팅 입력창을 아래위치로 내려주기위해 빈 부분을 하나 만듬\n",
        "\n",
        "    with st.form('form', clear_on_submit=True): # 채팅 입력창 생성\n",
        "        user_input = st.text_input('당신: ', '') # 입력부분\n",
        "        submitted = st.form_submit_button('전송') # 전송 버튼\n",
        "\n",
        "\n",
        "    if submitted and user_input:\n",
        "        user_input1 = user_input.strip() # 채팅 입력값 및 여백제거\n",
        "        chatbot_output1 = model.chat(user_input1).strip() # text generation된 값 및 여백 제거\n",
        "        st.session_state.past.append(user_input1) # 입력값을 past 에 append -> 채팅 로그값 저장을 위해\n",
        "        st.session_state.generated.append(chatbot_output1)\n",
        "\n",
        "    with placeholder.container(): # 리스트에 append된 채팅입력과 로봇출력을 리스트에서 꺼내서 메세지로 출력\n",
        "        for i in range(len(st.session_state['past'])):\n",
        "            message(st.session_state['past'][i], is_user=True, key=str(i) + '_user')\n",
        "            if len(st.session_state['generated']) > i:\n",
        "                message(st.session_state['generated'][i], key=str(i) + '_bot')"
      ],
      "metadata": {
        "id": "1af1h7XqXZbi"
      },
      "execution_count": null,
      "outputs": []
    }
  ]
}